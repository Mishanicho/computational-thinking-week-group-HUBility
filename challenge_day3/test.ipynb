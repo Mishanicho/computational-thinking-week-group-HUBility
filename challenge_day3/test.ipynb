{
 "cells": [
  {
   "cell_type": "code",
   "execution_count": 5,
   "metadata": {},
   "outputs": [
    {
     "name": "stdout",
     "output_type": "stream",
     "text": [
      "55\n"
     ]
    }
   ],
   "source": [
    "def Fibonacci(n):\n",
    " \n",
    "    # Check if input is 0 \n",
    "    if n < 0:\n",
    "        print(\"Input not possible\")\n",
    " \n",
    "    # Check if n is 0\n",
    "    elif n == 0:\n",
    "        return 0\n",
    " \n",
    "    # Check if n is 1,2\n",
    "    elif n == 1 or n == 2:\n",
    "        return 1\n",
    " \n",
    "    else:\n",
    "        return Fibonacci(n-1) + Fibonacci(n-2)\n",
    " \n",
    " \n",
    "#insert number\n",
    "number = x\n",
    "print(Fibonacci(x))"
   ]
  },
  {
   "cell_type": "code",
   "execution_count": 20,
   "metadata": {},
   "outputs": [
    {
     "name": "stdout",
     "output_type": "stream",
     "text": [
      "First Items:\n",
      "0      \n",
      "1      \n",
      "2      \n",
      "3      \n",
      "4      \n",
      "     ..\n",
      "66     \n",
      "67     \n",
      "68     \n",
      "69     \n",
      "70     \n",
      "Length: 71, dtype: object\n",
      "Sixth Items:\n",
      "0      \n",
      "1      \n",
      "2      \n",
      "3      \n",
      "4      \n",
      "     ..\n",
      "66     \n",
      "67     \n",
      "68     \n",
      "69     \n",
      "70     \n",
      "Length: 71, dtype: object\n"
     ]
    }
   ],
   "source": [
    "import pandas as pd\n",
    "\n",
    "# Read the Excel file into a DataFrame without specifying column names\n",
    "dataframe1 = pd.read_excel(\"export_team_formation.xlsx\", header=None)\n",
    "\n",
    "#print(dataframe1)\n",
    "\n",
    "# Access the first and sixth items in each row\n",
    "first_item_list = dataframe1.apply(lambda row: row.str.split(',')[0] if ',' in row.values else '', axis=1)\n",
    "sixth_item_list = dataframe1.apply(lambda row: row.str.split(',')[5] if len(row) > 5 and ',' in row.values else '', axis=1)\n",
    "\n",
    "# Print the first and sixth items\n",
    "print(\"First Items:\")\n",
    "print(first_item_list)\n",
    "\n",
    "print(\"Sixth Items:\")\n",
    "print(sixth_item_list)\n",
    "\n",
    "\n"
   ]
  },
  {
   "cell_type": "code",
   "execution_count": null,
   "metadata": {},
   "outputs": [],
   "source": []
  }
 ],
 "metadata": {
  "kernelspec": {
   "display_name": "base",
   "language": "python",
   "name": "python3"
  },
  "language_info": {
   "codemirror_mode": {
    "name": "ipython",
    "version": 3
   },
   "file_extension": ".py",
   "mimetype": "text/x-python",
   "name": "python",
   "nbconvert_exporter": "python",
   "pygments_lexer": "ipython3",
   "version": "3.9.12"
  },
  "orig_nbformat": 4
 },
 "nbformat": 4,
 "nbformat_minor": 2
}
